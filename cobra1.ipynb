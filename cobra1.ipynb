a=int(input('enter:'))
sum=0
print("the divisor of a:")
i=1
while (i<a):
    if(a%i==0):
        
        print(i)
        i=i+1
    sum=sum+i
print("sum of divisor:",sum)
if (sum==a):
    print("number is perfect")
else:
    print("number is not perfect")
